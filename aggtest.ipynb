{
 "cells": [
  {
   "cell_type": "markdown",
   "id": "cc15052e",
   "metadata": {},
   "source": [
    "***GENERATED CODE FOR aggtest PIPELINE.***"
   ]
  },
  {
   "cell_type": "markdown",
   "id": "260d0fbc",
   "metadata": {},
   "source": [
    "***DON'T EDIT THIS CODE.***"
   ]
  },
  {
   "cell_type": "markdown",
   "id": "f4969fd0",
   "metadata": {},
   "source": [
    "***CONNECTOR FUNCTIONS TO READ DATA.***"
   ]
  },
  {
   "cell_type": "code",
   "execution_count": null,
   "id": "7e1a0d74",
   "metadata": {},
   "outputs": [],
   "source": [
    "import os\n",
    "import datetime\n",
    "import logging\n",
    "import warnings\n",
    "warnings.filterwarnings('ignore')\n",
    "logging.basicConfig(format='%(levelname)s:%(message)s', level=logging.INFO)\n",
    "\n",
    "\n",
    "class HDFSConnector:\n",
    "\n",
    "    def fetch(spark, config):\n",
    "        ################### INPUT HADOOP HOST PORT TO CONNECT WITH ###############################\n",
    "        hdfs_server = str(os.environ['HDFS_SERVER'])\n",
    "        hdfs_port = int(os.environ['HDFS_PORT'])\n",
    "        df = spark.read.options(header='true', inferschema='true').csv(\n",
    "            f\"hdfs://{hdfs_server}:{hdfs_port}{eval(config)['url']}\", header='true')\n",
    "        display(df.limit(2).toPandas())\n",
    "        return df\n",
    "\n",
    "    def put(df, spark, config):\n",
    "        return df.write.format('csv').options(header='true' if eval(config)[\"is_header\"] == \"Use Header Line\" else 'false',\n",
    "                                              delimiter=eval(config)[\"delimiter\"]).save((\"%s %s\") % (datetime.datetime.now().strftime(\"%Y-%m-%d %H.%M.%S\")+\"_\", eval(config)['url']))\n"
   ]
  },
  {
   "cell_type": "markdown",
   "id": "3c254845",
   "metadata": {},
   "source": [
    "***OPERATION FUNCTIONS***"
   ]
  },
  {
   "cell_type": "code",
   "execution_count": null,
   "id": "766941f9",
   "metadata": {},
   "outputs": [],
   "source": [
    "import pyspark\n",
    "from dask.dataframe import from_pandas\n",
    "import json\n",
    "\n",
    "\n",
    "def aggregation(df, functionsData, applyOn, additionalFunctions):\n",
    "    dfcp = df\n",
    "    maincolumn = functionsData[0]['aggregateOn'][0]['columnName']\n",
    "    mainagg = functionsData[0]['aggregateFunction']\n",
    "    addfuncs = additionalFunctions\n",
    "    for cols in dfcp.columns:\n",
    "        if cols not in addfuncs:\n",
    "            if cols != maincolumn:\n",
    "                addfuncs[cols] = mainagg\n",
    "    dfcp1 = dfcp.groupby(maincolumn).agg(addfuncs).drop(\n",
    "        maincolumn, axis=1).reset_index(drop=False)\n",
    "    return dfcp1\n",
    "\n",
    "\n",
    "def runDataCleansing(sparkDf, spark, config):\n",
    "    configObj = json.loads(config)\n",
    "    sparkDf.persist(pyspark.StorageLevel.MEMORY_AND_DISK)\n",
    "    df = from_pandas((sparkDf.toPandas()), npartitions=5)\n",
    "    functionList = configObj['functionsApplied']\n",
    "    Data_Cleansing_Methods = {\"replaceBy\": replaceValues,\n",
    "                              \"formula\": calculateFormula,\n",
    "                              \"aggregate\": aggregation,\n",
    "                              \"converttostringtype\": changeToString,\n",
    "                              \"editname\": renameColumns}\n",
    "    for function in functionList:\n",
    "        function['functionName']\n",
    "        df = Data_Cleansing_Methods[function['functionName']](df, function['functionsData'],\n",
    "                                                              function['applyOn'])\n",
    "    sparkDf = spark.createDataFrame(df.compute())\n",
    "\n",
    "    display(sparkDf.limit(2).toPandas())\n",
    "    return sparkDf\n"
   ]
  },
  {
   "cell_type": "markdown",
   "id": "19c0b164",
   "metadata": {},
   "source": [
    "***CONNECTOR FUNCTIONS TO WRITE DATA.***"
   ]
  },
  {
   "cell_type": "code",
   "execution_count": null,
   "id": "25a8bee4",
   "metadata": {},
   "outputs": [],
   "source": [
    "import datetime\n",
    "import requests\n",
    "import datetime\n",
    "import logging\n",
    "import warnings\n",
    "warnings.filterwarnings('ignore')\n",
    "logging.basicConfig(format='%(levelname)s:%(message)s', level=logging.INFO)\n",
    "\n",
    "\n",
    "class NumtraConnector:\n",
    "\n",
    "    def put(inStages, inStagesData, stageId, spark, config):\n",
    "        path = eval(config)['server_url']\n",
    "        baseType = eval(config)['baseType']\n",
    "        results_url = eval(config)['results_url']\n",
    "        server = eval(config)['server']\n",
    "        originalfile = eval(config)['orignalKey']\n",
    "        eval(config)['pathOnly']\n",
    "        filename = eval(config)['filename']\n",
    "        eval(config)['ser']\n",
    "        eval(config)['user']\n",
    "        eval(config)['password']\n",
    "        eval(config)['authSource']\n",
    "        eval(config)['user_id']\n",
    "        eval(config)['parent_id']\n",
    "        eval(config)['project_id']\n",
    "        time = str(int(datetime.datetime.now().timestamp()))\n",
    "\n",
    "        inStagesData[inStages[0]]\n",
    "\n",
    "        print(path)\n",
    "        print(baseType)\n",
    "        print(results_url)\n",
    "        print(server)\n",
    "        print(originalfile)\n",
    "        print(filename)\n",
    "\n",
    "        args = {\n",
    "            'url': path,\n",
    "            'baseType': baseType,\n",
    "            'originalfile': originalfile,\n",
    "            'filename': time + filename\n",
    "        }\n",
    "\n",
    "        response = requests.post(results_url, args)\n",
    "        return response\n"
   ]
  },
  {
   "cell_type": "markdown",
   "id": "43ea4a79",
   "metadata": {},
   "source": [
    "***READING DATAFRAME***"
   ]
  },
  {
   "cell_type": "code",
   "execution_count": null,
   "id": "4577b559",
   "metadata": {},
   "outputs": [],
   "source": [
    "############## CREATE SPARK SESSION ############################ ENTER YOUR SPARK MASTER IP AND PORT TO CONNECT TO SERVER ################\n",
    "from pyspark.sql import SparkSession\n",
    "spark = SparkSession.builder.master('local[1]').getOrCreate()\n",
    "#%run aggtestHooks.ipynb\n",
    "try:\n",
    "\t#sourcePreExecutionHook()\n",
    "\n",
    "\tbankdepoithitory = HDFSConnector.fetch(spark, \"{'url': '/FileStore/platform/testdata/1709642735447_BankDepositHistory.csv', 'filename': 'BankDepositHistory.csv', 'delimiter': ',', 'file_type': 'Delimeted', 'dbfs_token': '', 'dbfs_domain': '', 'FilePath': '/DataPipelines/BankDepositHistory.csv', 'viewFileName': 'BankDepositHistory.csv', 'is_header': 'Use Header Line', 'baseType': 'hdfs', 'server_url': '/nexusMax/NexusMaxPlatform/uploads/platform/', 'results_url': 'http://ml.colaberry.com:44040/api/read/hdfs'}\")\n",
    "\n",
    "except Exception as ex: \n",
    "\tlogging.error(ex)\n",
    "#spark.stop()\n"
   ]
  },
  {
   "cell_type": "markdown",
   "id": "6d8de105",
   "metadata": {},
   "source": [
    "***PERFORMING OPERATIONS***"
   ]
  },
  {
   "cell_type": "code",
   "execution_count": null,
   "id": "6657afc0",
   "metadata": {},
   "outputs": [],
   "source": [
    "#%run aggtestHooks.ipynb\n",
    "try:\n",
    "\t#operationPreExecutionHook()\n",
    "\n",
    "datapreparation = runDataCleansing(bankdepoithitory,spark,json.dumps( {\"url\": \"/FileStore/platform/testdata/1709642735447_BankDepositHistory.csv\", \"source_attributes\": {}, \"DataPrepFile\": \"/FileStore/platform/testdata/1709642735447_BankDepositHistory.csv\", \"data_source\": \"platfiles\", \"startListenerOnly\": 1, \"dateColumnNames\": [], \"FilePath\": \"/FileStore/platform/extra/65e71408d119e302b96d70951709642974/0part.csv\", \"requestRatio\": 22.0, \"totalRows\": 11138, \"BasicStats\": {\"missingValues\": 0.0, \"numberOfColumns\": 17, \"numberOfRows\": 12, \"duplicateRowCount\": 0, \"stats\": [{\"column\": \"job\", \"alias\": \"job\", \"generated\": 0, \"type\": \"String\", \"max\": \"unknown\", \"min\": \"admin.\", \"mean\": \"\", \"missing\": 0.0, \"stddev\": \"\", \"outliers\": [], \"validation\": []}, {\"column\": \"age\", \"alias\": \"age\", \"generated\": 0, \"type\": \"numeric\", \"max\": 95, \"min\": 47, \"mean\": 73.33333333333333, \"missing\": 0.0, \"stddev\": 12.08, \"outliers\": [95, 47], \"validation\": []}, {\"column\": \"marital\", \"alias\": \"marital\", \"generated\": 0, \"type\": \"String\", \"max\": \"divorced\", \"min\": \"divorced\", \"mean\": \"\", \"missing\": 0.0, \"stddev\": \"\", \"outliers\": [], \"validation\": []}, {\"column\": \"education\", \"alias\": \"education\", \"generated\": 0, \"type\": \"numeric\", \"max\": 2562, \"min\": 70, \"mean\": 928.1666666666666, \"missing\": 0.0, \"stddev\": 805.08, \"outliers\": [], \"validation\": []}, {\"column\": \"default\", \"alias\": \"default\", \"generated\": 0, \"type\": \"numeric\", \"max\": 2562, \"min\": 70, \"mean\": 928.1666666666666, \"missing\": 0.0, \"stddev\": 805.08, \"outliers\": [], \"validation\": []}, {\"column\": \"balance\", \"alias\": \"balance\", \"generated\": 0, \"type\": \"numeric\", \"max\": 2562, \"min\": 70, \"mean\": 928.1666666666666, \"missing\": 0.0, \"stddev\": 805.08, \"outliers\": [], \"validation\": []}, {\"column\": \"housing\", \"alias\": \"housing\", \"generated\": 0, \"type\": \"numeric\", \"max\": 2562, \"min\": 70, \"mean\": 928.1666666666666, \"missing\": 0.0, \"stddev\": 805.08, \"outliers\": [], \"validation\": []}, {\"column\": \"loan\", \"alias\": \"loan\", \"generated\": 0, \"type\": \"numeric\", \"max\": 2562, \"min\": 70, \"mean\": 928.1666666666666, \"missing\": 0.0, \"stddev\": 805.08, \"outliers\": [], \"validation\": []}, {\"column\": \"contact\", \"alias\": \"contact\", \"generated\": 0, \"type\": \"numeric\", \"max\": 2562, \"min\": 70, \"mean\": 928.1666666666666, \"missing\": 0.0, \"stddev\": 805.08, \"outliers\": [], \"validation\": []}, {\"column\": \"day\", \"alias\": \"day\", \"generated\": 0, \"type\": \"numeric\", \"max\": 2562, \"min\": 70, \"mean\": 928.1666666666666, \"missing\": 0.0, \"stddev\": 805.08, \"outliers\": [], \"validation\": []}, {\"column\": \"month\", \"alias\": \"month\", \"generated\": 0, \"type\": \"numeric\", \"max\": 2562, \"min\": 70, \"mean\": 928.1666666666666, \"missing\": 0.0, \"stddev\": 805.08, \"outliers\": [], \"validation\": []}, {\"column\": \"duration\", \"alias\": \"duration\", \"generated\": 0, \"type\": \"numeric\", \"max\": 2562, \"min\": 70, \"mean\": 928.1666666666666, \"missing\": 0.0, \"stddev\": 805.08, \"outliers\": [], \"validation\": []}, {\"column\": \"campaign\", \"alias\": \"campaign\", \"generated\": 0, \"type\": \"numeric\", \"max\": 2562, \"min\": 70, \"mean\": 928.1666666666666, \"missing\": 0.0, \"stddev\": 805.08, \"outliers\": [], \"validation\": []}, {\"column\": \"pdays\", \"alias\": \"pdays\", \"generated\": 0, \"type\": \"numeric\", \"max\": 2562, \"min\": 70, \"mean\": 928.1666666666666, \"missing\": 0.0, \"stddev\": 805.08, \"outliers\": [], \"validation\": []}, {\"column\": \"previous\", \"alias\": \"previous\", \"generated\": 0, \"type\": \"numeric\", \"max\": 2562, \"min\": 70, \"mean\": 928.1666666666666, \"missing\": 0.0, \"stddev\": 805.08, \"outliers\": [], \"validation\": []}, {\"column\": \"poutcome\", \"alias\": \"poutcome\", \"generated\": 0, \"type\": \"numeric\", \"max\": 2562, \"min\": 70, \"mean\": 928.1666666666666, \"missing\": 0.0, \"stddev\": 805.08, \"outliers\": [], \"validation\": []}, {\"column\": \"deposit\", \"alias\": \"deposit\", \"generated\": 0, \"type\": \"numeric\", \"max\": 2562, \"min\": 70, \"mean\": 928.1666666666666, \"missing\": 0.0, \"stddev\": 805.08, \"outliers\": [], \"validation\": []}]}, \"predictionPowerScore\": [{\"age\": 1.0, \"balance\": 0.0, \"campaign\": 0.0, \"contact\": 0.0, \"day\": 0.0, \"default\": 0.0, \"deposit\": 0.0, \"duration\": 0.0, \"education\": 0.0, \"housing\": 0.0, \"job\": 0.0, \"loan\": 0.0, \"marital\": 0.0, \"month\": 0.0, \"pdays\": 0.0, \"poutcome\": 0.0, \"previous\": 0.0}, {\"age\": 0.0, \"balance\": 1.0, \"campaign\": 0.7483469981, \"contact\": 0.7483469981, \"day\": 0.7483469981, \"default\": 0.7483469981, \"deposit\": 0.7483469981, \"duration\": 0.7483469981, \"education\": 0.7483469981, \"housing\": 0.7483469981, \"job\": 0.0, \"loan\": 0.7483469981, \"marital\": 0.0, \"month\": 0.7483469981, \"pdays\": 0.7483469981, \"poutcome\": 0.7483469981, \"previous\": 0.7483469981}, {\"age\": 0.0, \"balance\": 0.7483469981, \"campaign\": 1.0, \"contact\": 0.7483469981, \"day\": 0.7483469981, \"default\": 0.7483469981, \"deposit\": 0.7483469981, \"duration\": 0.7483469981, \"education\": 0.7483469981, \"housing\": 0.7483469981, \"job\": 0.0, \"loan\": 0.7483469981, \"marital\": 0.0, \"month\": 0.7483469981, \"pdays\": 0.7483469981, \"poutcome\": 0.7483469981, \"previous\": 0.7483469981}, {\"age\": 0.0, \"balance\": 0.7483469981, \"campaign\": 0.7483469981, \"contact\": 1.0, \"day\": 0.7483469981, \"default\": 0.7483469981, \"deposit\": 0.7483469981, \"duration\": 0.7483469981, \"education\": 0.7483469981, \"housing\": 0.7483469981, \"job\": 0.0, \"loan\": 0.7483469981, \"marital\": 0.0, \"month\": 0.7483469981, \"pdays\": 0.7483469981, \"poutcome\": 0.7483469981, \"previous\": 0.7483469981}, {\"age\": 0.0, \"balance\": 0.7483469981, \"campaign\": 0.7483469981, \"contact\": 0.7483469981, \"day\": 1.0, \"default\": 0.7483469981, \"deposit\": 0.7483469981, \"duration\": 0.7483469981, \"education\": 0.7483469981, \"housing\": 0.7483469981, \"job\": 0.0, \"loan\": 0.7483469981, \"marital\": 0.0, \"month\": 0.7483469981, \"pdays\": 0.7483469981, \"poutcome\": 0.7483469981, \"previous\": 0.7483469981}, {\"age\": 0.0, \"balance\": 0.7483469981, \"campaign\": 0.7483469981, \"contact\": 0.7483469981, \"day\": 0.7483469981, \"default\": 1.0, \"deposit\": 0.7483469981, \"duration\": 0.7483469981, \"education\": 0.7483469981, \"housing\": 0.7483469981, \"job\": 0.0, \"loan\": 0.7483469981, \"marital\": 0.0, \"month\": 0.7483469981, \"pdays\": 0.7483469981, \"poutcome\": 0.7483469981, \"previous\": 0.7483469981}, {\"age\": 0.0, \"balance\": 0.7483469981, \"campaign\": 0.7483469981, \"contact\": 0.7483469981, \"day\": 0.7483469981, \"default\": 0.7483469981, \"deposit\": 1.0, \"duration\": 0.7483469981, \"education\": 0.7483469981, \"housing\": 0.7483469981, \"job\": 0.0, \"loan\": 0.7483469981, \"marital\": 0.0, \"month\": 0.7483469981, \"pdays\": 0.7483469981, \"poutcome\": 0.7483469981, \"previous\": 0.7483469981}, {\"age\": 0.0, \"balance\": 0.7483469981, \"campaign\": 0.7483469981, \"contact\": 0.7483469981, \"day\": 0.7483469981, \"default\": 0.7483469981, \"deposit\": 0.7483469981, \"duration\": 1.0, \"education\": 0.7483469981, \"housing\": 0.7483469981, \"job\": 0.0, \"loan\": 0.7483469981, \"marital\": 0.0, \"month\": 0.7483469981, \"pdays\": 0.7483469981, \"poutcome\": 0.7483469981, \"previous\": 0.7483469981}, {\"age\": 0.0, \"balance\": 0.7483469981, \"campaign\": 0.7483469981, \"contact\": 0.7483469981, \"day\": 0.7483469981, \"default\": 0.7483469981, \"deposit\": 0.7483469981, \"duration\": 0.7483469981, \"education\": 1.0, \"housing\": 0.7483469981, \"job\": 0.0, \"loan\": 0.7483469981, \"marital\": 0.0, \"month\": 0.7483469981, \"pdays\": 0.7483469981, \"poutcome\": 0.7483469981, \"previous\": 0.7483469981}, {\"age\": 0.0, \"balance\": 0.7483469981, \"campaign\": 0.7483469981, \"contact\": 0.7483469981, \"day\": 0.7483469981, \"default\": 0.7483469981, \"deposit\": 0.7483469981, \"duration\": 0.7483469981, \"education\": 0.7483469981, \"housing\": 1.0, \"job\": 0.0, \"loan\": 0.7483469981, \"marital\": 0.0, \"month\": 0.7483469981, \"pdays\": 0.7483469981, \"poutcome\": 0.7483469981, \"previous\": 0.7483469981}, {\"age\": 0.0, \"balance\": 0.0, \"campaign\": 0.0, \"contact\": 0.0, \"day\": 0.0, \"default\": 0.0, \"deposit\": 0.0, \"duration\": 0.0, \"education\": 0.0, \"housing\": 0.0, \"job\": 1.0, \"loan\": 0.0, \"marital\": 0.0, \"month\": 0.0, \"pdays\": 0.0, \"poutcome\": 0.0, \"previous\": 0.0}, {\"age\": 0.0, \"balance\": 0.7483469981, \"campaign\": 0.7483469981, \"contact\": 0.7483469981, \"day\": 0.7483469981, \"default\": 0.7483469981, \"deposit\": 0.7483469981, \"duration\": 0.7483469981, \"education\": 0.7483469981, \"housing\": 0.7483469981, \"job\": 0.0, \"loan\": 1.0, \"marital\": 0.0, \"month\": 0.7483469981, \"pdays\": 0.7483469981, \"poutcome\": 0.7483469981, \"previous\": 0.7483469981}, {\"age\": 0.0, \"balance\": 0.0, \"campaign\": 0.0, \"contact\": 0.0, \"day\": 0.0, \"default\": 0.0, \"deposit\": 0.0, \"duration\": 0.0, \"education\": 0.0, \"housing\": 0.0, \"job\": 0.0, \"loan\": 0.0, \"marital\": 1.0, \"month\": 0.0, \"pdays\": 0.0, \"poutcome\": 0.0, \"previous\": 0.0}, {\"age\": 0.0, \"balance\": 0.7483469981, \"campaign\": 0.7483469981, \"contact\": 0.7483469981, \"day\": 0.7483469981, \"default\": 0.7483469981, \"deposit\": 0.7483469981, \"duration\": 0.7483469981, \"education\": 0.7483469981, \"housing\": 0.7483469981, \"job\": 0.0, \"loan\": 0.7483469981, \"marital\": 0.0, \"month\": 1.0, \"pdays\": 0.7483469981, \"poutcome\": 0.7483469981, \"previous\": 0.7483469981}, {\"age\": 0.0, \"balance\": 0.7483469981, \"campaign\": 0.7483469981, \"contact\": 0.7483469981, \"day\": 0.7483469981, \"default\": 0.7483469981, \"deposit\": 0.7483469981, \"duration\": 0.7483469981, \"education\": 0.7483469981, \"housing\": 0.7483469981, \"job\": 0.0, \"loan\": 0.7483469981, \"marital\": 0.0, \"month\": 0.7483469981, \"pdays\": 1.0, \"poutcome\": 0.7483469981, \"previous\": 0.7483469981}, {\"age\": 0.0, \"balance\": 0.7483469981, \"campaign\": 0.7483469981, \"contact\": 0.7483469981, \"day\": 0.7483469981, \"default\": 0.7483469981, \"deposit\": 0.7483469981, \"duration\": 0.7483469981, \"education\": 0.7483469981, \"housing\": 0.7483469981, \"job\": 0.0, \"loan\": 0.7483469981, \"marital\": 0.0, \"month\": 0.7483469981, \"pdays\": 0.7483469981, \"poutcome\": 1.0, \"previous\": 0.7483469981}, {\"age\": 0.0, \"balance\": 0.7483469981, \"campaign\": 0.7483469981, \"contact\": 0.7483469981, \"day\": 0.7483469981, \"default\": 0.7483469981, \"deposit\": 0.7483469981, \"duration\": 0.7483469981, \"education\": 0.7483469981, \"housing\": 0.7483469981, \"job\": 0.0, \"loan\": 0.7483469981, \"marital\": 0.0, \"month\": 0.7483469981, \"pdays\": 0.7483469981, \"poutcome\": 0.7483469981, \"previous\": 1.0}], \"HasBasicStats\": 1, \"functionsApplied\": [{\"functionName\": \"aggregate\", \"applyOn\": [{\"columnName\": \"job\", \"type\": \"String\", \"min\": \"admin.\", \"max\": \"unknown\", \"mean\": \"-\"}], \"functionsData\": [{\"aggregateFunction\": \"count\", \"aggregateOn\": [{\"columnName\": \"job\", \"type\": \"String\", \"min\": \"admin.\", \"max\": \"unknown\", \"mean\": \"-\"}], \"groupOn\": [{\"columnName\": \"job\", \"type\": \"String\", \"min\": \"admin.\", \"max\": \"unknown\", \"mean\": \"-\"}]}], \"additionalFunctions\": {\"age\": \"max\", \"marital\": \"min\", \"education\": \"count\", \"default\": \"count\", \"balance\": \"count\", \"housing\": \"count\", \"loan\": \"count\", \"contact\": \"count\", \"day\": \"count\", \"month\": \"count\", \"duration\": \"count\", \"campaign\": \"count\", \"pdays\": \"count\", \"previous\": \"count\", \"poutcome\": \"count\", \"deposit\": \"count\"}}], \"functionChanges\": [{\"columnName\": \"job\", \"functionName\": \"Aggregate\", \"Type\": \"String\", \"Parameters\": [{\"aggregateFunction\": \"count\", \"aggregateOn\": [{\"columnName\": \"job\", \"type\": \"String\", \"min\": \"admin.\", \"max\": \"unknown\", \"mean\": \"-\"}], \"groupOn\": [{\"columnName\": \"job\", \"type\": \"String\", \"min\": \"admin.\", \"max\": \"unknown\", \"mean\": \"-\"}]}]}], \"fileheader\": [{\"field\": \"job\", \"alias\": \"job\", \"generated\": 0, \"position\": 1, \"type\": \"String\"}, {\"field\": \"age\", \"alias\": \"age\", \"generated\": 0, \"position\": 2, \"type\": \"numeric\"}, {\"field\": \"marital\", \"alias\": \"marital\", \"generated\": 0, \"position\": 3, \"type\": \"String\"}, {\"field\": \"education\", \"alias\": \"education\", \"generated\": 0, \"position\": 4, \"type\": \"numeric\"}, {\"field\": \"default\", \"alias\": \"default\", \"generated\": 0, \"position\": 5, \"type\": \"numeric\"}, {\"field\": \"balance\", \"alias\": \"balance\", \"generated\": 0, \"position\": 6, \"type\": \"numeric\"}, {\"field\": \"housing\", \"alias\": \"housing\", \"generated\": 0, \"position\": 7, \"type\": \"numeric\"}, {\"field\": \"loan\", \"alias\": \"loan\", \"generated\": 0, \"position\": 8, \"type\": \"numeric\"}, {\"field\": \"contact\", \"alias\": \"contact\", \"generated\": 0, \"position\": 9, \"type\": \"numeric\"}, {\"field\": \"day\", \"alias\": \"day\", \"generated\": 0, \"position\": 10, \"type\": \"numeric\"}, {\"field\": \"month\", \"alias\": \"month\", \"generated\": 0, \"position\": 11, \"type\": \"numeric\"}, {\"field\": \"duration\", \"alias\": \"duration\", \"generated\": 0, \"position\": 12, \"type\": \"numeric\"}, {\"field\": \"campaign\", \"alias\": \"campaign\", \"generated\": 0, \"position\": 13, \"type\": \"numeric\"}, {\"field\": \"pdays\", \"alias\": \"pdays\", \"generated\": 0, \"position\": 14, \"type\": \"numeric\"}, {\"field\": \"previous\", \"alias\": \"previous\", \"generated\": 0, \"position\": 15, \"type\": \"numeric\"}, {\"field\": \"poutcome\", \"alias\": \"poutcome\", \"generated\": 0, \"position\": 16, \"type\": \"numeric\"}, {\"field\": \"deposit\", \"alias\": \"deposit\", \"generated\": 0, \"position\": 17, \"type\": \"numeric\"}]}))\n",
    "\t#operationPostExecutionHook(datapreparation)\n",
    "\n",
    "except Exception as ex: \n",
    "\tlogging.error(ex)\n"
   ]
  },
  {
   "cell_type": "markdown",
   "id": "9bc250ad",
   "metadata": {},
   "source": [
    "***WRITING DATAFRAME***"
   ]
  },
  {
   "cell_type": "code",
   "execution_count": null,
   "id": "2cd8e31a",
   "metadata": {},
   "outputs": [],
   "source": [
    "#%run aggtestHooks.ipynb\n",
    "try:\n",
    "\t#sinkPreExecutionHook()\n",
    "\n",
    "\tmanualpipelinesoutput = NumtraConnector.fetch(spark, \"{'samplefile': '/FileStore/platform/sampleData/65e71405d119e302b96d7091/part-00000-d7522d05-7ed9-413a-b410-ebf8678638f6-c000.csv', 'samplecount': 1113, 'originalcount': 11138, 'orignalKey': '/FileStore/platform/testdata/1709642735447_BankDepositHistory.csv', 'pathOnly': '/ManualPipelines', 'project_id': '65e6eb16d119e302b96d6ade', 'parent_id': '65e6eb16d119e302b96d6ade', 'original_schema': [{'checked': True, 'inherited': True, 'is_categorical': False, 'bad_values': '', 'nullable': 'true', 'field': 'job', 'alias': 'job', 'type': 'String', 'position': '0'}, {'checked': True, 'inherited': True, 'is_categorical': False, 'bad_values': '', 'nullable': 'true', 'field': 'age', 'alias': 'age', 'type': 'numeric', 'position': '1'}, {'checked': True, 'inherited': True, 'is_categorical': False, 'bad_values': '', 'nullable': 'true', 'field': 'marital', 'alias': 'marital', 'type': 'String', 'position': '2'}, {'checked': True, 'inherited': True, 'is_categorical': False, 'bad_values': '', 'nullable': 'true', 'field': 'education', 'alias': 'education', 'type': 'numeric', 'position': '3'}, {'checked': True, 'inherited': True, 'is_categorical': False, 'bad_values': '', 'nullable': 'true', 'field': 'default', 'alias': 'default', 'type': 'numeric', 'position': '4'}, {'checked': True, 'inherited': True, 'is_categorical': False, 'bad_values': '', 'nullable': 'true', 'field': 'balance', 'alias': 'balance', 'type': 'numeric', 'position': '5'}, {'checked': True, 'inherited': True, 'is_categorical': False, 'bad_values': '', 'nullable': 'true', 'field': 'housing', 'alias': 'housing', 'type': 'numeric', 'position': '6'}, {'checked': True, 'inherited': True, 'is_categorical': False, 'bad_values': '', 'nullable': 'true', 'field': 'loan', 'alias': 'loan', 'type': 'numeric', 'position': '7'}, {'checked': True, 'inherited': True, 'is_categorical': False, 'bad_values': '', 'nullable': 'true', 'field': 'contact', 'alias': 'contact', 'type': 'numeric', 'position': '8'}, {'checked': True, 'inherited': True, 'is_categorical': False, 'bad_values': '', 'nullable': 'true', 'field': 'day', 'alias': 'day', 'type': 'numeric', 'position': '9'}, {'checked': True, 'inherited': True, 'is_categorical': False, 'bad_values': '', 'nullable': 'true', 'field': 'month', 'alias': 'month', 'type': 'numeric', 'position': '10'}, {'checked': True, 'inherited': True, 'is_categorical': False, 'bad_values': '', 'nullable': 'true', 'field': 'duration', 'alias': 'duration', 'type': 'numeric', 'position': '11'}, {'checked': True, 'inherited': True, 'is_categorical': False, 'bad_values': '', 'nullable': 'true', 'field': 'campaign', 'alias': 'campaign', 'type': 'numeric', 'position': '12'}, {'checked': True, 'inherited': True, 'is_categorical': False, 'bad_values': '', 'nullable': 'true', 'field': 'pdays', 'alias': 'pdays', 'type': 'numeric', 'position': '13'}, {'checked': True, 'inherited': True, 'is_categorical': False, 'bad_values': '', 'nullable': 'true', 'field': 'previous', 'alias': 'previous', 'type': 'numeric', 'position': '14'}, {'checked': True, 'inherited': True, 'is_categorical': False, 'bad_values': '', 'nullable': 'true', 'field': 'poutcome', 'alias': 'poutcome', 'type': 'numeric', 'position': '15'}, {'checked': True, 'inherited': True, 'is_categorical': False, 'bad_values': '', 'nullable': 'true', 'field': 'deposit', 'alias': 'deposit', 'type': 'numeric', 'position': '16'}], 'actual_schema': [{'checked': True, 'inherited': True, 'is_categorical': False, 'bad_values': '', 'nullable': 'true', 'field': 'age', 'alias': 'age', 'type': 'numeric', 'position': '0'}, {'checked': True, 'inherited': True, 'is_categorical': False, 'bad_values': '', 'nullable': 'true', 'field': 'job', 'alias': 'job', 'type': 'String', 'position': '1'}, {'checked': True, 'inherited': True, 'is_categorical': False, 'bad_values': '', 'nullable': 'true', 'field': 'marital', 'alias': 'marital', 'type': 'String', 'position': '2'}, {'checked': True, 'inherited': True, 'is_categorical': False, 'bad_values': '', 'nullable': 'true', 'field': 'education', 'alias': 'education', 'type': 'String', 'position': '3'}, {'checked': True, 'inherited': True, 'is_categorical': False, 'bad_values': '', 'nullable': 'true', 'field': 'default', 'alias': 'default', 'type': 'String', 'position': '4'}, {'checked': True, 'inherited': True, 'is_categorical': False, 'bad_values': '', 'nullable': 'true', 'field': 'balance', 'alias': 'balance', 'type': 'numeric', 'position': '5'}, {'checked': True, 'inherited': True, 'is_categorical': False, 'bad_values': '', 'nullable': 'true', 'field': 'housing', 'alias': 'housing', 'type': 'String', 'position': '6'}, {'checked': True, 'inherited': True, 'is_categorical': False, 'bad_values': '', 'nullable': 'true', 'field': 'loan', 'alias': 'loan', 'type': 'String', 'position': '7'}, {'checked': True, 'inherited': True, 'is_categorical': False, 'bad_values': '', 'nullable': 'true', 'field': 'contact', 'alias': 'contact', 'type': 'String', 'position': '8'}, {'checked': True, 'inherited': True, 'is_categorical': False, 'bad_values': '', 'nullable': 'true', 'field': 'day', 'alias': 'day', 'type': 'numeric', 'position': '9'}, {'checked': True, 'inherited': True, 'is_categorical': False, 'bad_values': '', 'nullable': 'true', 'field': 'month', 'alias': 'month', 'type': 'String', 'position': '10'}, {'checked': True, 'inherited': True, 'is_categorical': False, 'bad_values': '', 'nullable': 'true', 'field': 'duration', 'alias': 'duration', 'type': 'numeric', 'position': '11'}, {'checked': True, 'inherited': True, 'is_categorical': False, 'bad_values': '', 'nullable': 'true', 'field': 'campaign', 'alias': 'campaign', 'type': 'numeric', 'position': '12'}, {'checked': True, 'inherited': True, 'is_categorical': False, 'bad_values': '', 'nullable': 'true', 'field': 'pdays', 'alias': 'pdays', 'type': 'numeric', 'position': '13'}, {'checked': True, 'inherited': True, 'is_categorical': False, 'bad_values': '', 'nullable': 'true', 'field': 'previous', 'alias': 'previous', 'type': 'numeric', 'position': '14'}, {'checked': True, 'inherited': True, 'is_categorical': False, 'bad_values': '', 'nullable': 'true', 'field': 'poutcome', 'alias': 'poutcome', 'type': 'String', 'position': '15'}, {'checked': True, 'inherited': True, 'is_categorical': False, 'bad_values': '', 'nullable': 'true', 'field': 'deposit', 'alias': 'deposit', 'type': 'String', 'position': '16'}], 'server': 'https://ml.colaberry.com:443', 'server_url': '/nexusMax/NexusMaxPlatform/uploads/platform/', 'delimiter': ',', 'file_type': 'Delimeted', 'filename': 'BankDepoAgg.csv', 'token': '', 'domain': '', 'is_header': 'Use Header Line', 'url': '/FileStore/platform/uploadedSourceFiles/part-00000-c352f0de-f075-46e4-a5a5-5dfe000cb508-c000.csv', 'results_url': 'http://ml.colaberry.com:44040/api/read/hdfs'}\")\n",
    "\n",
    "except Exception as ex: \n",
    "\tlogging.error(ex)\n"
   ]
  }
 ],
 "metadata": {},
 "nbformat": 4,
 "nbformat_minor": 5
}
